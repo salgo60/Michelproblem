{
 "cells": [
  {
   "cell_type": "markdown",
   "id": "b2f8966d",
   "metadata": {},
   "source": [
    "### bara lista alla Filer\n",
    "\n",
    "skickar in kommando ls som listar alla filer\n"
   ]
  },
  {
   "cell_type": "code",
   "execution_count": 1,
   "id": "cb57043a",
   "metadata": {},
   "outputs": [
    {
     "name": "stdout",
     "output_type": "stream",
     "text": [
      "Learning PyTorch with examples.ipynb\r\n",
      "Michel test2.ipynb\r\n",
      "Michel test3.ipynb\r\n",
      "\u001b[1m\u001b[36mNormal_resize\u001b[m\u001b[m\r\n",
      "Normal_resize-20231203T152154Z-001.zip\r\n",
      "\u001b[1m\u001b[36mOSCC\u001b[m\u001b[m\r\n",
      "OSCC-20231203T153156Z-001.zip\r\n",
      "\u001b[1m\u001b[36mOSCC_resize\u001b[m\u001b[m\r\n",
      "OSCC_resize-20231203T152553Z-001.zip\r\n",
      "Test Forward prop.ipynb\r\n",
      "Vision Transformer (base-sized model) pre-trained with MAE.ipynb\r\n",
      "Vision Transformer (base-sized model) pre-trained with MAE_nocache.ipynb\r\n",
      "\u001b[1m\u001b[36mdata\u001b[m\u001b[m\r\n",
      "image_classification.ipynb\r\n",
      "model.pth\r\n",
      "quickTour.ipynb\r\n",
      "test 2\r\n",
      "test köra kommando i en Notebook.ipynb\r\n",
      "testarhello.sh\r\n"
     ]
    }
   ],
   "source": [
    "!ls\n"
   ]
  },
  {
   "cell_type": "markdown",
   "id": "09537d47",
   "metadata": {},
   "source": [
    " ### har ett script testarhello.sh som skicker hej"
   ]
  },
  {
   "cell_type": "code",
   "execution_count": 2,
   "id": "ef6d81b6",
   "metadata": {},
   "outputs": [
    {
     "name": "stdout",
     "output_type": "stream",
     "text": [
      "hello test från script fil skulle kunna vara ml load\r\n"
     ]
    }
   ],
   "source": [
    "!sh testarhello.sh"
   ]
  },
  {
   "cell_type": "markdown",
   "id": "fb6affcd",
   "metadata": {},
   "source": [
    "shell scriptet som körs har en rad med echo   \n",
    "\n",
    "**echo \"hello test från script fil skulle kunna vara ml load\"**\n",
    "\n"
   ]
  },
  {
   "cell_type": "markdown",
   "id": "4f34e344",
   "metadata": {},
   "source": [
    "## Min tanke\n",
    "\n",
    "du tar bort rad 4:a i hans script och kör hans script först i din notebok dvs.\n",
    "\n",
    "!sh JupyterMichelEnv.sh"
   ]
  },
  {
   "cell_type": "code",
   "execution_count": null,
   "id": "f1fb2834",
   "metadata": {},
   "outputs": [],
   "source": []
  }
 ],
 "metadata": {
  "kernelspec": {
   "display_name": "Python 3 (ipykernel)",
   "language": "python",
   "name": "python3"
  },
  "language_info": {
   "codemirror_mode": {
    "name": "ipython",
    "version": 3
   },
   "file_extension": ".py",
   "mimetype": "text/x-python",
   "name": "python",
   "nbconvert_exporter": "python",
   "pygments_lexer": "ipython3",
   "version": "3.11.5"
  }
 },
 "nbformat": 4,
 "nbformat_minor": 5
}
