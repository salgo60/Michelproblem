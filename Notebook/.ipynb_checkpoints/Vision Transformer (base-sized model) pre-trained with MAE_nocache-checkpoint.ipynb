{
 "cells": [
  {
   "cell_type": "markdown",
   "id": "18f1fd6c",
   "metadata": {},
   "source": [
    "Kod https://huggingface.co/facebook/vit-mae-base\n",
    "* [denna Notebook](https://github.com/salgo60/Michelproblem/blob/main/Notebook/Vision%20Transformer%20(base-sized%20model)%20pre-trained%20with%20MAE_nocache.ipynb)\n",
    "\n",
    "deleted cache and rerun\n",
    "* [guides manage cache](https://huggingface.co/docs/huggingface_hub/guides/manage-cache)\n",
    "\n",
    "\n"
   ]
  },
  {
   "cell_type": "code",
   "execution_count": 2,
   "id": "ebcdba72",
   "metadata": {},
   "outputs": [
    {
     "name": "stdout",
     "output_type": "stream",
     "text": [
      "Name: transformers\r\n",
      "Version: 4.32.1\r\n",
      "Summary: State-of-the-art Machine Learning for JAX, PyTorch and TensorFlow\r\n",
      "Home-page: https://github.com/huggingface/transformers\r\n",
      "Author: The Hugging Face team (past and future) with the help of all our contributors (https://github.com/huggingface/transformers/graphs/contributors)\r\n",
      "Author-email: transformers@huggingface.co\r\n",
      "License: Apache 2.0 License\r\n",
      "Location: /Users/magnus/anaconda3/lib/python3.11/site-packages\r\n",
      "Requires: filelock, huggingface-hub, numpy, packaging, pyyaml, regex, requests, safetensors, tokenizers, tqdm\r\n",
      "Required-by: \r\n"
     ]
    }
   ],
   "source": [
    "!pip show transformers\n"
   ]
  },
  {
   "cell_type": "code",
   "execution_count": 1,
   "id": "ea108421",
   "metadata": {},
   "outputs": [
    {
     "name": "stdout",
     "output_type": "stream",
     "text": [
      "Last run:  2023-12-03 11:31:17.840685\n"
     ]
    }
   ],
   "source": [
    "from datetime import datetime\n",
    "start_time  = datetime.now()\n",
    "print(\"Last run: \", start_time)"
   ]
  },
  {
   "cell_type": "code",
   "execution_count": 2,
   "id": "a766dc15",
   "metadata": {},
   "outputs": [
    {
     "data": {
      "application/vnd.jupyter.widget-view+json": {
       "model_id": "ac2f0d66613747f2acd56c13e41cee0c",
       "version_major": 2,
       "version_minor": 0
      },
      "text/plain": [
       "Downloading (…)rocessor_config.json:   0%|          | 0.00/217 [00:00<?, ?B/s]"
      ]
     },
     "metadata": {},
     "output_type": "display_data"
    },
    {
     "data": {
      "application/vnd.jupyter.widget-view+json": {
       "model_id": "e754907bfa434c409d5432dd646f30d6",
       "version_major": 2,
       "version_minor": 0
      },
      "text/plain": [
       "Downloading config.json:   0%|          | 0.00/676 [00:00<?, ?B/s]"
      ]
     },
     "metadata": {},
     "output_type": "display_data"
    },
    {
     "data": {
      "application/vnd.jupyter.widget-view+json": {
       "model_id": "7c6e9e61b2c74185a818b30c1b5247c9",
       "version_major": 2,
       "version_minor": 0
      },
      "text/plain": [
       "Downloading pytorch_model.bin:   0%|          | 0.00/448M [00:00<?, ?B/s]"
      ]
     },
     "metadata": {},
     "output_type": "display_data"
    }
   ],
   "source": [
    "from transformers import AutoImageProcessor, ViTMAEForPreTraining\n",
    "from PIL import Image\n",
    "import requests\n",
    "\n",
    "url = 'http://images.cocodataset.org/val2017/000000039769.jpg'\n",
    "image = Image.open(requests.get(url, stream=True).raw)\n",
    "\n",
    "processor = AutoImageProcessor.from_pretrained('facebook/vit-mae-base')\n",
    "model = ViTMAEForPreTraining.from_pretrained('facebook/vit-mae-base')\n",
    "\n",
    "inputs = processor(images=image, return_tensors=\"pt\")\n",
    "outputs = model(**inputs)\n",
    "loss_vit_mae_base = outputs.loss\n",
    "mask = outputs.mask\n",
    "ids_restore = outputs.ids_restore"
   ]
  },
  {
   "cell_type": "code",
   "execution_count": 3,
   "id": "d0a2c39a",
   "metadata": {},
   "outputs": [
    {
     "name": "stdout",
     "output_type": "stream",
     "text": [
      "Ended:  2023-12-03 11:32:11.952740\n",
      "Time elapsed vit-mae-base (hh:mm:ss.ms) 0:00:54.115909\n"
     ]
    }
   ],
   "source": [
    "end_time_vit_mae_base = datetime.now()\n",
    "print(\"Ended: \", end_time_vit_mae_base)\n",
    "time_vit_mae_base = datetime.now() - start_time\n",
    "print('Time elapsed vit-mae-base (hh:mm:ss.ms) {}'.format(time_vit_mae_base))\n"
   ]
  },
  {
   "cell_type": "code",
   "execution_count": 4,
   "id": "f11d1194",
   "metadata": {},
   "outputs": [
    {
     "data": {
      "text/plain": [
       "tensor([[188, 191,  95, 113,  32, 103,  31,  62,  27, 195,  30,  70, 108,  41,\n",
       "          37,   4, 166,  54,  14,  17,  13, 117,  39, 179,  91,  68, 149, 135,\n",
       "          84,  10, 159,  44, 162,  88, 116,   2, 165, 107, 102,  96,   8, 170,\n",
       "          43, 114, 115,  53, 160, 131,  35,  67,  97, 110,  63,  86, 106, 122,\n",
       "         147, 180,  61,   1, 120,  19,  28,  57, 185,  73,  42, 154,  29,   3,\n",
       "          89,  34,  66, 156,  56, 164, 111,  23,  50, 175,  64, 174,  45,  65,\n",
       "          87, 129,  60,  33, 136, 153,  72,  55, 105, 140, 177, 163, 130, 141,\n",
       "         171,  94, 168,  59,  16, 190, 167,  26,  80,  15, 133, 172, 128, 119,\n",
       "         182,  90,  49, 173, 138,  82,  81, 148, 194, 139,  71, 121,  12,  74,\n",
       "          77, 151, 137,  99,  78,  58, 192,  46, 183,  22, 124,  38, 178,  93,\n",
       "          92,  79,  36, 145, 169,  24,   6,  48,  76,  98, 181, 109, 146,   9,\n",
       "         143, 150, 126,  85,  25, 132,  18, 125, 158, 134,  51, 189,   5,  40,\n",
       "         123, 187, 186, 112, 144,   0,  75, 152, 142,  52,  47, 100, 193, 176,\n",
       "          83,  20,   7,  69, 184, 118, 127, 104,  21, 101, 161,  11, 155, 157]])"
      ]
     },
     "execution_count": 4,
     "metadata": {},
     "output_type": "execute_result"
    }
   ],
   "source": [
    "ids_restore"
   ]
  },
  {
   "cell_type": "code",
   "execution_count": 5,
   "id": "45b526ba",
   "metadata": {},
   "outputs": [
    {
     "data": {
      "text/plain": [
       "tensor([[1., 1., 1., 1., 0., 1., 0., 1., 0., 1., 0., 1., 1., 0., 0., 0., 1., 1.,\n",
       "         0., 0., 0., 1., 0., 1., 1., 1., 1., 1., 1., 0., 1., 0., 1., 1., 1., 0.,\n",
       "         1., 1., 1., 1., 0., 1., 0., 1., 1., 1., 1., 1., 0., 1., 1., 1., 1., 1.,\n",
       "         1., 1., 1., 1., 1., 0., 1., 0., 0., 1., 1., 1., 0., 1., 0., 0., 1., 0.,\n",
       "         1., 1., 1., 1., 1., 0., 1., 1., 1., 1., 0., 1., 1., 1., 1., 0., 1., 1.,\n",
       "         1., 1., 1., 1., 1., 1., 1., 1., 1., 1., 1., 1., 0., 1., 1., 0., 1., 0.,\n",
       "         1., 1., 1., 1., 1., 1., 1., 1., 1., 1., 1., 1., 1., 1., 1., 1., 0., 1.,\n",
       "         1., 1., 1., 1., 1., 1., 1., 0., 1., 0., 1., 0., 1., 1., 1., 1., 0., 1.,\n",
       "         1., 0., 0., 0., 1., 1., 1., 1., 1., 0., 1., 1., 1., 1., 0., 1., 0., 1.,\n",
       "         1., 1., 1., 1., 0., 0., 1., 1., 1., 1., 1., 0., 1., 1., 1., 1., 0., 1.,\n",
       "         1., 1., 1., 0., 0., 1., 1., 1., 1., 1., 0., 1., 1., 0., 1., 1.]])"
      ]
     },
     "execution_count": 5,
     "metadata": {},
     "output_type": "execute_result"
    }
   ],
   "source": [
    "mask\n",
    "    "
   ]
  },
  {
   "cell_type": "code",
   "execution_count": 6,
   "id": "96f39226",
   "metadata": {},
   "outputs": [
    {
     "data": {
      "text/plain": [
       "tensor(0.3627, grad_fn=<DivBackward0>)"
      ]
     },
     "execution_count": 6,
     "metadata": {},
     "output_type": "execute_result"
    }
   ],
   "source": [
    "loss_vit_mae_base\n"
   ]
  },
  {
   "cell_type": "markdown",
   "id": "7c74b806",
   "metadata": {},
   "source": [
    "### facebook/vit-mae-huge\n"
   ]
  },
  {
   "cell_type": "code",
   "execution_count": 7,
   "id": "e7b4b473",
   "metadata": {},
   "outputs": [
    {
     "data": {
      "application/vnd.jupyter.widget-view+json": {
       "model_id": "618b5632f1434d5591486b61c86d7891",
       "version_major": 2,
       "version_minor": 0
      },
      "text/plain": [
       "Downloading (…)rocessor_config.json:   0%|          | 0.00/217 [00:00<?, ?B/s]"
      ]
     },
     "metadata": {},
     "output_type": "display_data"
    },
    {
     "data": {
      "application/vnd.jupyter.widget-view+json": {
       "model_id": "7199a26cf2c4476ab1f63a59c8b06770",
       "version_major": 2,
       "version_minor": 0
      },
      "text/plain": [
       "Downloading config.json:   0%|          | 0.00/677 [00:00<?, ?B/s]"
      ]
     },
     "metadata": {},
     "output_type": "display_data"
    },
    {
     "data": {
      "application/vnd.jupyter.widget-view+json": {
       "model_id": "99b7a1ecbaca47cc9c6940890e7fb1f8",
       "version_major": 2,
       "version_minor": 0
      },
      "text/plain": [
       "Downloading pytorch_model.bin:   0%|          | 0.00/2.63G [00:00<?, ?B/s]"
      ]
     },
     "metadata": {},
     "output_type": "display_data"
    }
   ],
   "source": [
    "from transformers import AutoImageProcessor, ViTMAEForPreTraining\n",
    "from PIL import Image\n",
    "import requests\n",
    "\n",
    "url = 'http://images.cocodataset.org/val2017/000000039769.jpg'\n",
    "image = Image.open(requests.get(url, stream=True).raw)\n",
    "\n",
    "processor = AutoImageProcessor.from_pretrained('facebook/vit-mae-huge')\n",
    "model = ViTMAEForPreTraining.from_pretrained('facebook/vit-mae-huge')\n",
    "\n",
    "inputs = processor(images=image, return_tensors=\"pt\")\n",
    "outputs = model(**inputs)\n",
    "loss_vit_mae_huge  = outputs.loss\n",
    "mask = outputs.mask\n",
    "ids_restore = outputs.ids_restore"
   ]
  },
  {
   "cell_type": "code",
   "execution_count": 8,
   "id": "96943c69",
   "metadata": {},
   "outputs": [
    {
     "data": {
      "text/plain": [
       "tensor(0.3460, grad_fn=<DivBackward0>)"
      ]
     },
     "execution_count": 8,
     "metadata": {},
     "output_type": "execute_result"
    }
   ],
   "source": [
    "loss_vit_mae_huge"
   ]
  },
  {
   "cell_type": "code",
   "execution_count": 10,
   "id": "4ae387de",
   "metadata": {},
   "outputs": [
    {
     "name": "stdout",
     "output_type": "stream",
     "text": [
      "Ended:  2023-12-03 11:36:57.848614\n",
      "\n",
      "Cached models deleted \n",
      "\n",
      "Time elapsed vit-mae-base (hh:mm:ss.ms) 0:00:54.115909\n",
      "Time elapsed vit-mae-huge (hh:mm:ss.ms) 0:04:45.897363\n",
      "\n",
      "Time elapsed both (hh:mm:ss.ms) 0:05:40.009522\n"
     ]
    }
   ],
   "source": [
    "end_time_vit_mae_huge  = datetime.now()\n",
    "print(\"Ended: \", end_time_vit_mae_huge)\n",
    "print(\"\\nCached models deleted \\n\")\n",
    "print('Time elapsed vit-mae-base (hh:mm:ss.ms) {}'.format(time_vit_mae_base))\n",
    "print('Time elapsed vit-mae-huge (hh:mm:ss.ms) {}'.format(datetime.now() - end_time_vit_mae_base))\n",
    "\n",
    "print('\\nTime elapsed both (hh:mm:ss.ms) {}'.format(datetime.now() - start_time))\n"
   ]
  },
  {
   "cell_type": "code",
   "execution_count": null,
   "id": "ae631965",
   "metadata": {},
   "outputs": [],
   "source": []
  }
 ],
 "metadata": {
  "kernelspec": {
   "display_name": "Python 3 (ipykernel)",
   "language": "python",
   "name": "python3"
  },
  "language_info": {
   "codemirror_mode": {
    "name": "ipython",
    "version": 3
   },
   "file_extension": ".py",
   "mimetype": "text/x-python",
   "name": "python",
   "nbconvert_exporter": "python",
   "pygments_lexer": "ipython3",
   "version": "3.11.5"
  }
 },
 "nbformat": 4,
 "nbformat_minor": 5
}
