{
 "cells": [
  {
   "cell_type": "code",
   "execution_count": 1,
   "id": "1e87e9ef",
   "metadata": {},
   "outputs": [
    {
     "name": "stdout",
     "output_type": "stream",
     "text": [
      "Last run:  2023-12-03 17:57:06.576315\n"
     ]
    }
   ],
   "source": [
    "from datetime import datetime\n",
    "start_time  = datetime.now()\n",
    "print(\"Last run: \", start_time)"
   ]
  },
  {
   "cell_type": "code",
   "execution_count": 2,
   "id": "5f9be3d0",
   "metadata": {},
   "outputs": [
    {
     "name": "stdout",
     "output_type": "stream",
     "text": [
      "Load images  Normal_resize 0\n",
      "Load images  OSCC_resize 1\n"
     ]
    },
    {
     "data": {
      "application/vnd.jupyter.widget-view+json": {
       "model_id": "62686e8aa0fb44279bdc3b3d8ea2f1cc",
       "version_major": 2,
       "version_minor": 0
      },
      "text/plain": [
       "Processing images:   0%|          | 0/194 [00:00<?, ?it/s]"
      ]
     },
     "metadata": {},
     "output_type": "display_data"
    },
    {
     "data": {
      "application/vnd.jupyter.widget-view+json": {
       "model_id": "63539003dfde468890b5747dd069c01a",
       "version_major": 2,
       "version_minor": 0
      },
      "text/plain": [
       "Processing images:   0%|          | 0/65 [00:00<?, ?it/s]"
      ]
     },
     "metadata": {},
     "output_type": "display_data"
    },
    {
     "data": {
      "application/vnd.jupyter.widget-view+json": {
       "model_id": "3f0f52270ba949d78230f472008bef56",
       "version_major": 2,
       "version_minor": 0
      },
      "text/plain": [
       "Processing images:   0%|          | 0/65 [00:00<?, ?it/s]"
      ]
     },
     "metadata": {},
     "output_type": "display_data"
    }
   ],
   "source": [
    "from transformers import AutoImageProcessor, ViTMAEForPreTraining\n",
    "from PIL import Image\n",
    "import os\n",
    "import numpy as np\n",
    "from sklearn.model_selection import train_test_split \n",
    "import glob\n",
    "import cv2\n",
    "from tqdm.notebook import tqdm_notebook\n",
    "\n",
    "def resizeImage(inDir,outDir):\n",
    "    target_size = (224, 224)\n",
    "    print(inDir,outDir)\n",
    "    curDir = os.getcwd()\n",
    "    print(\"Current dir:\",curDir)\n",
    "    inDirFull = curDir + \"/\" + inDir + \"/*\" \n",
    "    print(\"inDIR =\", inDirFull)\n",
    "    outDirFull = curDir + \"/\" + outDir \n",
    "    print(\"outDIR =\", outDirFull)\n",
    "\n",
    "    image_files_normal = glob.glob(inDirFull)\n",
    "    # Iterate through each image in the dataset\n",
    "    for image_path_normal in image_files_normal:\n",
    "\n",
    "        # Read the image\n",
    "        image_normal = cv2.imread(image_path_normal)\n",
    "\n",
    "        # Resize the image to the desired size (e.g., 224x224)\n",
    "        resized_image_normal = cv2.resize(image_normal, target_size)\n",
    "\n",
    "        # Normalize pixel values to be between 0 and 1\n",
    "        #normalized_image = resized_image / 255.0\n",
    "\n",
    "        # Save the preprocessed image\n",
    "        filename = os.path.basename(outDirFull)\n",
    "        filename2 = os.path.basename(image_path_normal)\n",
    "        output_filepath_normal = os.path.join(outDirFull, filename2)\n",
    "        #print(output_filepath_normal,filename2)\n",
    "        cv2.imwrite(output_filepath_normal, resized_image_normal)\n",
    "\n",
    "\n",
    "\n",
    "def load_images(source_dir, label):\n",
    "    print(\"Load images \",source_dir, label)\n",
    "    images = []\n",
    "    labels = []\n",
    "    \n",
    "    for filename in os.listdir(source_dir):\n",
    "        if filename.endswith(\".jpg\") or filename.endswith(\".png\"):\n",
    "            img_path = os.path.join(source_dir, filename)\n",
    "            images.append(img_path)\n",
    "            labels.append(label)\n",
    "    return images, labels\n",
    "\n",
    "def process_images(image_paths):\n",
    "    for path in tqdm_notebook(image_paths,  \n",
    "                         desc=\"Processing images\"):\n",
    "    # any code processing the elements in the iterable\n",
    "  \n",
    "#    for path in image_paths:\n",
    "        image = Image.open(path)\n",
    "        inputs = processor(images=image, return_tensors=\"pt\")\n",
    "        outputs = model(**inputs)\n",
    "        \n",
    "        loss = outputs.loss\n",
    "        mask = outputs.mask\n",
    "        ids_restore = outputs.ids_restore\n",
    " \n",
    "\n",
    "#resizeImage(\"OSCC\",\"OSCC_resize\")\n",
    "\n",
    "normal_images, normal_labels = load_images(\"Normal_resize\", 0)\n",
    "oscc_images, oscc_labels = load_images(\"OSCC_resize\", 1)\n",
    "\n",
    "all_images = normal_images + oscc_images\n",
    "all_labels = normal_labels + oscc_labels\n",
    "X_train, X_test, y_train, y_test = train_test_split(all_images, all_labels, test_size=0.2, random_state=42)\n",
    "X_train, X_val, y_train, y_val = train_test_split(X_train, y_train, test_size=0.25, random_state=42)\n",
    "\n",
    "processor = AutoImageProcessor.from_pretrained('facebook/vit-mae-base')\n",
    "model = ViTMAEForPreTraining.from_pretrained('facebook/vit-mae-base')\n",
    "\n",
    "\n",
    "process_images(X_train)\n",
    "process_images(X_val)\n",
    "process_images(X_test)\n"
   ]
  },
  {
   "cell_type": "code",
   "execution_count": 3,
   "id": "962dddb2",
   "metadata": {},
   "outputs": [
    {
     "name": "stdout",
     "output_type": "stream",
     "text": [
      "Ended:  2023-12-03 18:01:24.935616\n",
      "\n",
      "Time elapsed both (hh:mm:ss.ms) 0:04:18.360832\n"
     ]
    }
   ],
   "source": [
    "print(\"Ended: \", datetime.now())\n",
    "\n",
    "print('\\nTime elapsed both (hh:mm:ss.ms) {}'.format(datetime.now() - start_time))\n",
    "\n"
   ]
  },
  {
   "cell_type": "code",
   "execution_count": null,
   "id": "af2dbefc",
   "metadata": {},
   "outputs": [],
   "source": []
  }
 ],
 "metadata": {
  "kernelspec": {
   "display_name": "Python 3 (ipykernel)",
   "language": "python",
   "name": "python3"
  },
  "language_info": {
   "codemirror_mode": {
    "name": "ipython",
    "version": 3
   },
   "file_extension": ".py",
   "mimetype": "text/x-python",
   "name": "python",
   "nbconvert_exporter": "python",
   "pygments_lexer": "ipython3",
   "version": "3.11.5"
  }
 },
 "nbformat": 4,
 "nbformat_minor": 5
}
