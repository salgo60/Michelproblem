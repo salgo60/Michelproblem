{
 "cells": [
  {
   "cell_type": "markdown",
   "id": "f44db8a3",
   "metadata": {},
   "source": [
    "\n",
    "* denna [notebook](https://github.com/salgo60/Michelproblem/blob/main/Notebook/Michel%20test3.ipynb)\n",
    "\n",
    "**Status**\n",
    "\n",
    "Är en merge av [Michel test2](https://github.com/salgo60/Michelproblem/blob/main/Notebook/Michel%20test3.ipynb) och [m-laji/MichelProblem....test2](https://github.com/m-laji/Michelproblem/blob/main/Notebook/test%202)\n",
    "\n",
    "TODO:\n",
    "* forward function\n",
    "* [fatta PyTorch](https://github.com/salgo60/Michelproblem/blob/main/Notebook/Learning%20PyTorch%20with%20examples.ipynb)\n",
    "* ???"
   ]
  },
  {
   "cell_type": "code",
   "execution_count": 1,
   "id": "00e8762d",
   "metadata": {},
   "outputs": [
    {
     "name": "stdout",
     "output_type": "stream",
     "text": [
      "Last run:  2023-12-03 19:09:56.056104\n"
     ]
    }
   ],
   "source": [
    "from datetime import datetime\n",
    "start_time  = datetime.now()\n",
    "print(\"Last run: \", start_time)"
   ]
  },
  {
   "cell_type": "code",
   "execution_count": 2,
   "id": "8e65d9fe",
   "metadata": {},
   "outputs": [],
   "source": [
    "# Bort kommenterad modul som körs pm bilder skall skalas\n",
    "import os,glob\n",
    "import cv2\n",
    "def resizeImage(inDir,outDir):\n",
    "    target_size = (224, 224)\n",
    "    print(inDir,outDir)\n",
    "    curDir = os.getcwd()\n",
    "    print(\"Current dir:\",curDir)\n",
    "    inDirFull = curDir + \"/\" + inDir + \"/*\" \n",
    "    print(\"inDIR =\", inDirFull)\n",
    "    outDirFull = curDir + \"/\" + outDir \n",
    "    print(\"outDIR =\", outDirFull)\n",
    "\n",
    "    image_files_normal = glob.glob(inDirFull)\n",
    "    # Iterate through each image in the dataset\n",
    "    for image_path_normal in image_files_normal:\n",
    "\n",
    "        # Read the image\n",
    "        image_normal = cv2.imread(image_path_normal)\n",
    "\n",
    "        # Resize the image to the desired size (e.g., 224x224)\n",
    "        resized_image_normal = cv2.resize(image_normal, target_size)\n",
    "\n",
    "        # Normalize pixel values to be between 0 and 1\n",
    "        #normalized_image = resized_image / 255.0\n",
    "\n",
    "        # Save the preprocessed image\n",
    "        filename = os.path.basename(outDirFull)\n",
    "        filename2 = os.path.basename(image_path_normal)\n",
    "        output_filepath_normal = os.path.join(outDirFull, filename2)\n",
    "        #print(output_filepath_normal,filename2)\n",
    "        cv2.imwrite(output_filepath_normal, resized_image_normal)\n",
    "        \n",
    "        \n",
    "#resizeImage(\"OSCC\",\"OSCC_resize\")\n"
   ]
  },
  {
   "cell_type": "code",
   "execution_count": 3,
   "id": "3422ac22",
   "metadata": {},
   "outputs": [
    {
     "name": "stdout",
     "output_type": "stream",
     "text": [
      "Load images  Normal_resize 0\n",
      "Load images  OSCC_resize 1\n"
     ]
    }
   ],
   "source": [
    "from transformers import AutoImageProcessor, ViTMAEForPreTraining\n",
    "from PIL import Image\n",
    "import numpy as np\n",
    "from sklearn.model_selection import train_test_split \n",
    "\n",
    "from tqdm.notebook import tqdm_notebook\n",
    "\n",
    "import torch\n",
    "import torch.nn as nn\n",
    "import torch.optim as optim\n",
    "from torchvision import transforms\n",
    "\n",
    "def resizeImage(inDir,outDir):\n",
    "    target_size = (224, 224)\n",
    "    print(inDir,outDir)\n",
    "    curDir = os.getcwd()\n",
    "    print(\"Current dir:\",curDir)\n",
    "    inDirFull = curDir + \"/\" + inDir + \"/*\" \n",
    "    print(\"inDIR =\", inDirFull)\n",
    "    outDirFull = curDir + \"/\" + outDir \n",
    "    print(\"outDIR =\", outDirFull)\n",
    "\n",
    "    image_files_normal = glob.glob(inDirFull)\n",
    "    # Iterate through each image in the dataset\n",
    "    for image_path_normal in image_files_normal:\n",
    "\n",
    "        # Read the image\n",
    "        image_normal = cv2.imread(image_path_normal)\n",
    "\n",
    "        # Resize the image to the desired size (e.g., 224x224)\n",
    "        resized_image_normal = cv2.resize(image_normal, target_size)\n",
    "\n",
    "        # Normalize pixel values to be between 0 and 1\n",
    "        #normalized_image = resized_image / 255.0\n",
    "\n",
    "        # Save the preprocessed image\n",
    "        filename = os.path.basename(outDirFull)\n",
    "        filename2 = os.path.basename(image_path_normal)\n",
    "        output_filepath_normal = os.path.join(outDirFull, filename2)\n",
    "        #print(output_filepath_normal,filename2)\n",
    "        cv2.imwrite(output_filepath_normal, resized_image_normal)\n",
    "\n",
    "\n",
    "\n",
    "def load_images(source_dir, label):\n",
    "    print(\"Load images \",source_dir, label)\n",
    "    images = []\n",
    "    labels = []\n",
    "    \n",
    "    for filename in os.listdir(source_dir):\n",
    "        if filename.endswith(\".jpg\") or filename.endswith(\".png\"):\n",
    "            img_path = os.path.join(source_dir, filename)\n",
    "            images.append(img_path)\n",
    "            labels.append(label)\n",
    "    return images, labels\n",
    "\n",
    "\n",
    "\n",
    "normal_images, normal_labels = load_images(\"Normal_resize\", 0)\n",
    "oscc_images, oscc_labels = load_images(\"OSCC_resize\", 1)\n",
    "\n",
    "all_images = normal_images + oscc_images\n",
    "all_labels = normal_labels + oscc_labels\n",
    "X_train, X_test, y_train, y_test = train_test_split(all_images, all_labels, test_size=0.2, random_state=42)\n",
    "X_train, X_val, y_train, y_val = train_test_split(X_train, y_train, test_size=0.25, random_state=42)\n",
    "\n",
    "\n"
   ]
  },
  {
   "cell_type": "code",
   "execution_count": 4,
   "id": "ea3b55c4",
   "metadata": {},
   "outputs": [],
   "source": [
    "class CustomModel(nn.Module):\n",
    "    def __init__(self, vit_model):\n",
    "        super(CustomModel, self).__init__()\n",
    "        self.vit_model = vit_model\n",
    "        self.new_layer = nn.Linear(vit_model.config.hidden_size, 1)\n",
    "\n",
    "#    def forward(self, x):\n",
    "#        with torch.no_grad():\n",
    "#           outputs = self.vit_model(**x)\n",
    "#        x = outputs.last_hidden_state[:, 0, :]\n",
    "#        x = self.new_layer(x)\n",
    "#        return x"
   ]
  },
  {
   "cell_type": "code",
   "execution_count": 5,
   "id": "d89ca095",
   "metadata": {},
   "outputs": [],
   "source": [
    "def process_image(image_path, processor):\n",
    "    image = Image.open(image_path)\n",
    "    transform = transforms.Compose([\n",
    "        transforms.Resize((224, 224)),\n",
    "        transforms.ToTensor(),\n",
    "    ])\n",
    "    image = transform(image).unsqueeze(0)\n",
    "    return processor(images=image, return_tensors=\"pt\")\n"
   ]
  },
  {
   "cell_type": "code",
   "execution_count": 6,
   "id": "7d9aaf06",
   "metadata": {},
   "outputs": [],
   "source": [
    "processor = AutoImageProcessor.from_pretrained('facebook/vit-mae-base')\n",
    "vit_model = ViTMAEForPreTraining.from_pretrained('facebook/vit-mae-base')\n"
   ]
  },
  {
   "cell_type": "code",
   "execution_count": 7,
   "id": "1eb3af38",
   "metadata": {},
   "outputs": [],
   "source": [
    "\n",
    "for param in vit_model.parameters():\n",
    "    param.requires_grad = False\n",
    "\n",
    "custom_model = CustomModel(vit_model)"
   ]
  },
  {
   "cell_type": "code",
   "execution_count": 8,
   "id": "d15fecc6",
   "metadata": {},
   "outputs": [],
   "source": [
    "# Weighted loss function\n",
    "#weight_for_class_0 = 1248 / (929 * 2) = 0.06716\n",
    "#weight_for_class_1 = 1248 / (319 * 2) = 1,95611\n",
    "weight = torch.tensor([0.06716, 1.95611])\n",
    "criterion = nn.BCEWithLogitsLoss(weight=weight)\n",
    "\n",
    "optimizer = optim.Adam(custom_model.new_layer.parameters(), lr=0.001)\n"
   ]
  },
  {
   "cell_type": "code",
   "execution_count": null,
   "id": "0ee1f244",
   "metadata": {},
   "outputs": [],
   "source": []
  },
  {
   "cell_type": "code",
   "execution_count": 9,
   "id": "c41fb75b",
   "metadata": {},
   "outputs": [
    {
     "name": "stdout",
     "output_type": "stream",
     "text": [
      "Normal_resize/Normal_400x_3.jpg 0\n"
     ]
    },
    {
     "ename": "NotImplementedError",
     "evalue": "Module [CustomModel] is missing the required \"forward\" function",
     "output_type": "error",
     "traceback": [
      "\u001b[0;31m---------------------------------------------------------------------------\u001b[0m",
      "\u001b[0;31mNotImplementedError\u001b[0m                       Traceback (most recent call last)",
      "Cell \u001b[0;32mIn[9], line 6\u001b[0m\n\u001b[1;32m      4\u001b[0m \u001b[38;5;28mprint\u001b[39m(image_path, label)\n\u001b[1;32m      5\u001b[0m inputs \u001b[38;5;241m=\u001b[39m process_image(image_path, processor)\n\u001b[0;32m----> 6\u001b[0m outputs \u001b[38;5;241m=\u001b[39m custom_model(inputs)\n\u001b[1;32m      7\u001b[0m label \u001b[38;5;241m=\u001b[39m torch\u001b[38;5;241m.\u001b[39mtensor([label], dtype\u001b[38;5;241m=\u001b[39mtorch\u001b[38;5;241m.\u001b[39mfloat32)\n\u001b[1;32m      8\u001b[0m loss \u001b[38;5;241m=\u001b[39m criterion(outputs, label\u001b[38;5;241m.\u001b[39munsqueeze(\u001b[38;5;241m1\u001b[39m))\n",
      "File \u001b[0;32m~/anaconda3/lib/python3.11/site-packages/torch/nn/modules/module.py:1518\u001b[0m, in \u001b[0;36mModule._wrapped_call_impl\u001b[0;34m(self, *args, **kwargs)\u001b[0m\n\u001b[1;32m   1516\u001b[0m     \u001b[38;5;28;01mreturn\u001b[39;00m \u001b[38;5;28mself\u001b[39m\u001b[38;5;241m.\u001b[39m_compiled_call_impl(\u001b[38;5;241m*\u001b[39margs, \u001b[38;5;241m*\u001b[39m\u001b[38;5;241m*\u001b[39mkwargs)  \u001b[38;5;66;03m# type: ignore[misc]\u001b[39;00m\n\u001b[1;32m   1517\u001b[0m \u001b[38;5;28;01melse\u001b[39;00m:\n\u001b[0;32m-> 1518\u001b[0m     \u001b[38;5;28;01mreturn\u001b[39;00m \u001b[38;5;28mself\u001b[39m\u001b[38;5;241m.\u001b[39m_call_impl(\u001b[38;5;241m*\u001b[39margs, \u001b[38;5;241m*\u001b[39m\u001b[38;5;241m*\u001b[39mkwargs)\n",
      "File \u001b[0;32m~/anaconda3/lib/python3.11/site-packages/torch/nn/modules/module.py:1527\u001b[0m, in \u001b[0;36mModule._call_impl\u001b[0;34m(self, *args, **kwargs)\u001b[0m\n\u001b[1;32m   1522\u001b[0m \u001b[38;5;66;03m# If we don't have any hooks, we want to skip the rest of the logic in\u001b[39;00m\n\u001b[1;32m   1523\u001b[0m \u001b[38;5;66;03m# this function, and just call forward.\u001b[39;00m\n\u001b[1;32m   1524\u001b[0m \u001b[38;5;28;01mif\u001b[39;00m \u001b[38;5;129;01mnot\u001b[39;00m (\u001b[38;5;28mself\u001b[39m\u001b[38;5;241m.\u001b[39m_backward_hooks \u001b[38;5;129;01mor\u001b[39;00m \u001b[38;5;28mself\u001b[39m\u001b[38;5;241m.\u001b[39m_backward_pre_hooks \u001b[38;5;129;01mor\u001b[39;00m \u001b[38;5;28mself\u001b[39m\u001b[38;5;241m.\u001b[39m_forward_hooks \u001b[38;5;129;01mor\u001b[39;00m \u001b[38;5;28mself\u001b[39m\u001b[38;5;241m.\u001b[39m_forward_pre_hooks\n\u001b[1;32m   1525\u001b[0m         \u001b[38;5;129;01mor\u001b[39;00m _global_backward_pre_hooks \u001b[38;5;129;01mor\u001b[39;00m _global_backward_hooks\n\u001b[1;32m   1526\u001b[0m         \u001b[38;5;129;01mor\u001b[39;00m _global_forward_hooks \u001b[38;5;129;01mor\u001b[39;00m _global_forward_pre_hooks):\n\u001b[0;32m-> 1527\u001b[0m     \u001b[38;5;28;01mreturn\u001b[39;00m forward_call(\u001b[38;5;241m*\u001b[39margs, \u001b[38;5;241m*\u001b[39m\u001b[38;5;241m*\u001b[39mkwargs)\n\u001b[1;32m   1529\u001b[0m \u001b[38;5;28;01mtry\u001b[39;00m:\n\u001b[1;32m   1530\u001b[0m     result \u001b[38;5;241m=\u001b[39m \u001b[38;5;28;01mNone\u001b[39;00m\n",
      "File \u001b[0;32m~/anaconda3/lib/python3.11/site-packages/torch/nn/modules/module.py:372\u001b[0m, in \u001b[0;36m_forward_unimplemented\u001b[0;34m(self, *input)\u001b[0m\n\u001b[1;32m    361\u001b[0m \u001b[38;5;28;01mdef\u001b[39;00m \u001b[38;5;21m_forward_unimplemented\u001b[39m(\u001b[38;5;28mself\u001b[39m, \u001b[38;5;241m*\u001b[39m\u001b[38;5;28minput\u001b[39m: Any) \u001b[38;5;241m-\u001b[39m\u001b[38;5;241m>\u001b[39m \u001b[38;5;28;01mNone\u001b[39;00m:\n\u001b[1;32m    362\u001b[0m \u001b[38;5;250m    \u001b[39m\u001b[38;5;124mr\u001b[39m\u001b[38;5;124;03m\"\"\"Defines the computation performed at every call.\u001b[39;00m\n\u001b[1;32m    363\u001b[0m \n\u001b[1;32m    364\u001b[0m \u001b[38;5;124;03m    Should be overridden by all subclasses.\u001b[39;00m\n\u001b[0;32m   (...)\u001b[0m\n\u001b[1;32m    370\u001b[0m \u001b[38;5;124;03m        registered hooks while the latter silently ignores them.\u001b[39;00m\n\u001b[1;32m    371\u001b[0m \u001b[38;5;124;03m    \"\"\"\u001b[39;00m\n\u001b[0;32m--> 372\u001b[0m     \u001b[38;5;28;01mraise\u001b[39;00m \u001b[38;5;167;01mNotImplementedError\u001b[39;00m(\u001b[38;5;124mf\u001b[39m\u001b[38;5;124m\"\u001b[39m\u001b[38;5;124mModule [\u001b[39m\u001b[38;5;132;01m{\u001b[39;00m\u001b[38;5;28mtype\u001b[39m(\u001b[38;5;28mself\u001b[39m)\u001b[38;5;241m.\u001b[39m\u001b[38;5;18m__name__\u001b[39m\u001b[38;5;132;01m}\u001b[39;00m\u001b[38;5;124m] is missing the required \u001b[39m\u001b[38;5;130;01m\\\"\u001b[39;00m\u001b[38;5;124mforward\u001b[39m\u001b[38;5;130;01m\\\"\u001b[39;00m\u001b[38;5;124m function\u001b[39m\u001b[38;5;124m\"\u001b[39m)\n",
      "\u001b[0;31mNotImplementedError\u001b[0m: Module [CustomModel] is missing the required \"forward\" function"
     ]
    }
   ],
   "source": [
    "num_epochs = 10\n",
    "for epoch in range(num_epochs):\n",
    "    for image_path, label in zip(X_train, y_train):\n",
    "        print(image_path, label)\n",
    "        inputs = process_image(image_path, processor)\n",
    "        outputs = custom_model(inputs)\n",
    "        label = torch.tensor([label], dtype=torch.float32)\n",
    "        loss = criterion(outputs, label.unsqueeze(1))\n",
    "        optimizer.zero_grad()\n",
    "        loss.backward()\n",
    "        optimizer.step()\n",
    "    print(f'Epoch {epoch+1}/{num_epochs}, Loss: {loss.item()}')\n",
    "\n",
    "torch.save(custom_model.state_dict(), 'custom_model.pth')\n"
   ]
  },
  {
   "cell_type": "code",
   "execution_count": null,
   "id": "f2b83f00",
   "metadata": {},
   "outputs": [],
   "source": [
    "#process_images(X_train)\n",
    "#process_images(X_val)\n",
    "#process_images(X_test)\n"
   ]
  },
  {
   "cell_type": "code",
   "execution_count": null,
   "id": "760b704f",
   "metadata": {},
   "outputs": [],
   "source": [
    "def evaluate_model(model, data, labels, criterion, processor):\n",
    "    model.eval()\n",
    "    total_loss = 0\n",
    "    correct_predictions = 0\n",
    "    with torch.no_grad():\n",
    "        for image_path, label in zip(data, labels):\n",
    "            inputs = process_image(image_path, processor)\n",
    "            outputs = model(inputs)\n",
    "            loss = criterion(outputs, torch.tensor([label], dtype=torch.float32).unsqueeze(1))\n",
    "            total_loss += loss.item()\n",
    "            predicted = outputs.sigmoid().round()\n",
    "            correct_predictions += (predicted == label).sum().item()\n",
    "    avg_loss = total_loss / len(data)\n",
    "    accuracy = correct_predictions / len(data)\n",
    "    return avg_loss, accuracy\n",
    "\n"
   ]
  },
  {
   "cell_type": "code",
   "execution_count": null,
   "id": "5da81b8b",
   "metadata": {},
   "outputs": [],
   "source": [
    "val_loss, val_accuracy = evaluate_model(custom_model, X_val, y_val, criterion, processor)\n",
    "print(f'Validation Loss: {val_loss:.4f}, Validation Accuracy: {val_accuracy:.4f}')\n",
    "\n",
    "test_loss, test_accuracy = evaluate_model(custom_model, X_test, y_test, criterion, processor)\n",
    "print(f'Test Loss: {test_loss:.4f}, Test Accuracy: {test_accuracy:.4f}')"
   ]
  },
  {
   "cell_type": "code",
   "execution_count": null,
   "id": "b6049faa",
   "metadata": {},
   "outputs": [],
   "source": [
    "print(\"Ended: \", datetime.now())\n",
    "\n",
    "print('\\nTime elapsed both (hh:mm:ss.ms) {}'.format(datetime.now() - start_time))\n",
    "\n"
   ]
  },
  {
   "cell_type": "code",
   "execution_count": null,
   "id": "71249c37",
   "metadata": {},
   "outputs": [],
   "source": []
  }
 ],
 "metadata": {
  "kernelspec": {
   "display_name": "Python 3 (ipykernel)",
   "language": "python",
   "name": "python3"
  },
  "language_info": {
   "codemirror_mode": {
    "name": "ipython",
    "version": 3
   },
   "file_extension": ".py",
   "mimetype": "text/x-python",
   "name": "python",
   "nbconvert_exporter": "python",
   "pygments_lexer": "ipython3",
   "version": "3.11.5"
  }
 },
 "nbformat": 4,
 "nbformat_minor": 5
}
